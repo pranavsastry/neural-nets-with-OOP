{
  "nbformat": 4,
  "nbformat_minor": 0,
  "metadata": {
    "colab": {
      "name": "neural-nets-OOP.ipynb",
      "provenance": [],
      "collapsed_sections": []
    },
    "kernelspec": {
      "name": "python3",
      "display_name": "Python 3"
    }
  },
  "cells": [
    {
      "cell_type": "code",
      "metadata": {
        "id": "Ivrqqtph4J_I",
        "colab_type": "code",
        "colab": {
          "base_uri": "https://localhost:8080/",
          "height": 51
        },
        "outputId": "868482d2-e96a-4bcf-8721-3e43cfedc635"
      },
      "source": [
        "import numpy as np\n",
        "from sklearn.datasets import make_moons\n",
        "import math\n",
        "from pandas import DataFrame\n",
        "import matplotlib.pyplot as plt\n",
        "import seaborn as sns\n",
        "from matplotlib import pyplot\n",
        "from matplotlib import cm"
      ],
      "execution_count": 1,
      "outputs": [
        {
          "output_type": "stream",
          "text": [
            "/usr/local/lib/python3.6/dist-packages/statsmodels/tools/_testing.py:19: FutureWarning: pandas.util.testing is deprecated. Use the functions in the public API at pandas.testing instead.\n",
            "  import pandas.util.testing as tm\n"
          ],
          "name": "stderr"
        }
      ]
    },
    {
      "cell_type": "code",
      "metadata": {
        "id": "SgHvT6-s4Sv5",
        "colab_type": "code",
        "colab": {}
      },
      "source": [
        "N_SAMPLES = 1000\n",
        "X_data, y_data_t = make_moons(n_samples = N_SAMPLES, noise=0.2, random_state=100)\n",
        "y_data = y_data_t.reshape(N_SAMPLES,1)\n",
        "m = int(X_data.shape[0])\n",
        "m_tr = int(math.ceil((90/100)*m))\n",
        "m_cv = int(math.ceil((5/100)*m))\n",
        "m_te = m - (m_tr + m_cv)\n",
        "X_tr = np.zeros((m_tr,X_data.shape[1]))\n",
        "y_tr_t = np.zeros((m_tr,1))\n",
        "X_cv = np.zeros((m_cv,X_data.shape[1]))\n",
        "y_cv_t = np.zeros((m_cv,1))\n",
        "X_te = np.zeros((m_te,X_data.shape[1]))\n",
        "y_te_t = np.zeros((m_te,1))\n",
        "perm = np.random.permutation(m)\n",
        "p = perm.reshape(m,1)\n",
        "for i in range(0,m_tr):\n",
        "  X_tr[i] = X_data[p[i]]\n",
        "  y_tr_t[i] = y_data[p[i]]\n",
        "for i in range(0,m_cv):\n",
        "  X_cv[i] = X_data[p[i+m_tr]]\n",
        "  y_cv_t[i] = y_data[p[i+m_tr]]\n",
        "for i in range(0,m_te):\n",
        "  X_te[i] = X_data[p[i+m_tr+m_cv]]\n",
        "  y_te_t[i] = y_data[p[i+m_tr+m_cv]]\n",
        "y_tr = y_tr_t.T\n",
        "y_cv = y_cv_t.T\n",
        "y_te = y_te_t.T"
      ],
      "execution_count": 2,
      "outputs": []
    },
    {
      "cell_type": "code",
      "metadata": {
        "id": "l8jlSLyI4Vkl",
        "colab_type": "code",
        "colab": {
          "base_uri": "https://localhost:8080/",
          "height": 279
        },
        "outputId": "5d6919f0-94cc-41e3-b9ce-63853feda8c7"
      },
      "source": [
        "df = DataFrame(dict(x=X_data[:,0], y=X_data[:,1], label=y_data_t))\n",
        "colors = {0:'red', 1:'blue'}\n",
        "fig, ax = plt.subplots()\n",
        "grouped = df.groupby('label')\n",
        "for key, group in grouped:\n",
        "    group.plot(ax=ax, kind='scatter', x='x', y='y', label=key, color=colors[key])\n",
        "plt.show()"
      ],
      "execution_count": 3,
      "outputs": [
        {
          "output_type": "display_data",
          "data": {
            "image/png": "[encoded data removed]",
            "text/plain": [
              "<Figure size 432x288 with 1 Axes>"
            ]
          },
          "metadata": {
            "tags": [],
            "needs_background": "light"
          }
        }
      ]
    },
    {
      "cell_type": "code",
      "metadata": {
        "id": "cwdt1Y3L4fNm",
        "colab_type": "code",
        "colab": {}
      },
      "source": [
        "class Activations:\n",
        "  \"\"\"\n",
        "      Contains the activation functions and their gradients along with the variables \n",
        "      necessary for initializing the weights of the neural network.\n",
        "      SubClasses:\n",
        "        ActivationsForward\n",
        "        ActivationsBackward\n",
        "  \"\"\"\n",
        "  @staticmethod\n",
        "  def relu(x):\n",
        "    return np.maximum(0,x)\n",
        "    \n",
        "  @staticmethod\n",
        "  def tanh(x):\n",
        "    return np.tanh(x)\n",
        "    \n",
        "  @staticmethod\n",
        "  def sigmoid(x):\n",
        "    calc = 1 / (1 + np.exp(-x))\n",
        "    return calc\n",
        "\n",
        "  @staticmethod\n",
        "  def relu_backward(x):\n",
        "    x[x<=0] = 0\n",
        "    x[x>0] = 1\n",
        "    return x\n",
        "\n",
        "  @staticmethod\n",
        "  def tanh_backward(x):\n",
        "    return (1 - np.square(np.tanh(x)))\n",
        "\n",
        "  @staticmethod\n",
        "  def sigmoid_backward(x):\n",
        "    return (np.exp(-x)/np.square(1 + np.exp(-x)))"
      ],
      "execution_count": 4,
      "outputs": []
    },
    {
      "cell_type": "code",
      "metadata": {
        "id": "T2mRCFtX4xC7",
        "colab_type": "code",
        "colab": {}
      },
      "source": [
        "class Helpers:\n",
        "  \"\"\"\n",
        "      Contains the helper functions for calculating Cost Function, predicting and\n",
        "      accuracy of the network\n",
        "      Methods:\n",
        "        CostFunction\n",
        "        Predictions\n",
        "        Accuracy\n",
        "  \"\"\"\n",
        "  @staticmethod\n",
        "  def cost_function(y, A):\n",
        "    cost = (-1/y.shape[1])*(np.sum(np.sum((y*np.log(A)) + ((1-y)*(np.log(1-A))))))\n",
        "    return cost\n",
        "  \n",
        "  @staticmethod\n",
        "  def predict(A,threshold=0.5):\n",
        "    predictions = np.zeros((A.shape))\n",
        "    for g in range(0,A.shape[1]):\n",
        "      if A[:,g] >= threshold:\n",
        "        predictions[:,g] = 1\n",
        "    return predictions\n",
        "  \n",
        "  @staticmethod\n",
        "  def evaluate(y, preds):\n",
        "    accuracy = float(np.mean(preds==y,axis=1)*100)\n",
        "    return accuracy\n",
        "  \n",
        "  @staticmethod\n",
        "  def prec_rec(A,y):\n",
        "    tp = 0\n",
        "    fp = 0\n",
        "    fn = 0\n",
        "    for i in range(0,y.shape[1]):\n",
        "      if ((A[0,i]==1)and(y[0,i]==1)):\n",
        "        tp = tp+1\n",
        "      if ((A[0,i]==1)and(y[0,i]==0)):\n",
        "        fp = fp+1\n",
        "      if (A[0,i]==0)and(y[0,i]==1):\n",
        "        fn = fn+1\n",
        "    prec = tp/(tp+fp)\n",
        "    rec = tp/(tp+fn)\n",
        "    f1 = (2*prec*rec)/(prec+rec)\n",
        "    return prec,rec,f1"
      ],
      "execution_count": 5,
      "outputs": []
    },
    {
      "cell_type": "code",
      "metadata": {
        "id": "lk7kaqWb5_-x",
        "colab_type": "code",
        "colab": {}
      },
      "source": [
        "class Dense:\n",
        "  \"\"\"\n",
        "      This layer is used for implemetation of Fully Connected Neural Networks\n",
        "      Methods:\n",
        "        Parameters Initialization\n",
        "        Forward Propagation\n",
        "        Backward Propagation\n",
        "  \"\"\"\n",
        "  def __init__(self,num_inputs,num_outputs,activation_fn,weights=None,bias=None,dZ=None,dW=None,db=None,dA=None):\n",
        "    self.num_inputs = num_inputs\n",
        "    self.num_outputs = num_outputs\n",
        "    self.activation_fn = activation_fn\n",
        "    self.dZ,self.dW,self.db,self.dA = dZ,dW,db,dA\n",
        "    self.weights = weights\n",
        "    self.bias = bias\n",
        "    self.activ_dict = {\"relu\":[Activations.relu,Activations.relu_backward,2],\"tanh\":[Activations.tanh,Activations.tanh_backward,1],\"sigmoid\":[Activations.sigmoid,Activations.sigmoid_backward,1]}\n",
        "\n",
        "  def initialize_params(self):\n",
        "    self.weights = np.random.randn(self.num_outputs, self.num_inputs)*(np.sqrt(self.activ_dict[self.activation_fn][2]/self.num_inputs))\n",
        "    self.bias = np.random.randn(self.num_outputs, 1)*0.01\n",
        "    return self.weights,self.bias\n",
        "\n",
        "  def get_params(self):\n",
        "    return self.weights, self.bias\n",
        "    \n",
        "  def forw_prop(self,A_prev):\n",
        "    self.outputs = np.dot(self.weights,A_prev) + self.bias\n",
        "    self.activations = self.activ_dict[self.activation_fn][0](self.outputs)\n",
        "    return self.outputs,self.activations\n",
        "\n",
        "  def back_prop(self,dA_prev,A_prev):\n",
        "    self.dZ = dA_prev*self.activ_dict[self.activation_fn][1](self.outputs)\n",
        "    self.dW = np.dot(self.dZ,A_prev.T)\n",
        "    self.db = np.sum(self.dZ,axis=1,keepdims = True)\n",
        "    self.dA = np.dot(self.weights.T,self.dZ)\n",
        "    return self.dZ,self.dW,self.db,self.dA"
      ],
      "execution_count": 6,
      "outputs": []
    },
    {
      "cell_type": "code",
      "metadata": {
        "id": "3PI_-trs6vsd",
        "colab_type": "code",
        "colab": {}
      },
      "source": [
        "class Optimizers:\n",
        "  \"\"\"\n",
        "      Contains the optimizers for the Neural Networks and for updating of parameters\n",
        "      SubClasses:\n",
        "        GradientDescent\n",
        "        Adam\n",
        "        Momentum\n",
        "        StochasticGradientDescent\n",
        "  \"\"\"\n",
        "  @staticmethod\n",
        "  def gradient_descent(alpha,layers_arr,V_dict,S_dict,t):\n",
        "    for layers in layers_arr:\n",
        "      layers.weights -= (alpha*layers.dW)\n",
        "      layers.bias -= (alpha*layers.db)\n",
        "\n",
        "  @staticmethod\n",
        "  def gd_mom(alpha,layers_arr,V_dict,S_dict,t):\n",
        "    beta1 = 0.9\n",
        "    for h in range(1,len(layers_arr)):\n",
        "      V_dict[\"Vdw\" + str(h)] = (beta1*V_dict[\"Vdw\" + str(h)]) + ((1-beta1)*layers_arr[h-1].dW)\n",
        "      V_dict[\"Vdb\" + str(h)] = (beta1*V_dict[\"Vdb\" + str(h)]) + ((1-beta1)*layers_arr[h-1].db)\n",
        "    for g in range(1,len(layers_arr)):\n",
        "      layers_arr[g-1].weights -= (alpha*V_dict[\"Vdw\" + str(g)])\n",
        "      layers_arr[g-1].bias -= (alpha*V_dict[\"Vdb\" + str(g)])\n",
        "  \n",
        "  @staticmethod\n",
        "  def rms_prop(alpha,layers_arr,V_dict,S_dict,t):\n",
        "    beta2 = 0.999\n",
        "    epsilon = 1e-8\n",
        "    for h in range(1,len(layers_arr)):\n",
        "      S_dict[\"Sdw\" + str(h)] = (beta2*S_dict[\"Sdw\" + str(h)]) + ((1-beta2)*np.square(layers_arr[h-1].dW))\n",
        "      S_dict[\"Sdb\" + str(h)] = (beta2*S_dict[\"Sdb\" + str(h)]) + ((1-beta2)*np.square(layers_arr[h-1].db))\n",
        "    for g in range(1,len(layers_arr)):\n",
        "      layers_arr[g-1].weights -= ((alpha*layers_arr[g-1].dW)/(np.sqrt(S_dict[\"Sdw\" + str(g)]) + epsilon))\n",
        "      layers_arr[g-1].bias -= ((alpha*layers_arr[g-1].db)/(np.sqrt(S_dict[\"Sdb\" + str(g)]) + epsilon))\n",
        "\n",
        "  @staticmethod\n",
        "  def adam(alpha,layers_arr,V_dict,S_dict,t):\n",
        "    beta1 = 0.9\n",
        "    beta2 = 0.999\n",
        "    epsilon = 1e-8\n",
        "    S_dict_corr = {}\n",
        "    V_dict_corr = {}\n",
        "    for h in range(1,len(layers_arr)):\n",
        "      V_dict[\"Vdw\" + str(h)] = (beta1*V_dict[\"Vdw\" + str(h)]) + ((1-beta1)*layers_arr[h-1].dW)\n",
        "      V_dict[\"Vdb\" + str(h)] = (beta1*V_dict[\"Vdb\" + str(h)]) + ((1-beta1)*layers_arr[h-1].db)\n",
        "    for u in range(1,len(layers_arr)):\n",
        "      S_dict[\"Sdw\" + str(u)] = (beta2*S_dict[\"Sdw\" + str(u)]) + ((1-beta2)*np.square(layers_arr[u-1].dW))\n",
        "      S_dict[\"Sdb\" + str(u)] = (beta2*S_dict[\"Sdb\" + str(u)]) + ((1-beta2)*np.square(layers_arr[u-1].db))\n",
        "    for n in range(1,len(layers_arr)):\n",
        "      S_dict_corr[\"Sdw\" + str(n)] = S_dict[\"Sdw\" + str(n)]/(1 - np.power(beta2,t))\n",
        "      S_dict_corr[\"Sdb\" + str(n)] = S_dict[\"Sdb\" + str(n)]/(1 - np.power(beta2,t))\n",
        "      V_dict_corr[\"Vdw\" + str(n)] = V_dict[\"Vdw\" + str(n)]/(1 - np.power(beta1,t))\n",
        "      V_dict_corr[\"Vdb\" + str(n)] = V_dict[\"Vdb\" + str(n)]/(1 - np.power(beta1,t))\n",
        "    for g in range(1,len(layers_arr)):\n",
        "      layers_arr[g-1].weights -= ((alpha*V_dict_corr[\"Vdw\" + str(g)])/(np.sqrt(S_dict_corr[\"Sdw\" + str(g)]) + epsilon))\n",
        "      layers_arr[g-1].bias -= ((alpha*V_dict_corr[\"Vdb\" + str(g)])/(np.sqrt(S_dict_corr[\"Sdb\" + str(g)]) + epsilon))"
      ],
      "execution_count": 7,
      "outputs": []
    },
    {
      "cell_type": "code",
      "metadata": {
        "id": "YzuSI-Kp7JvE",
        "colab_type": "code",
        "colab": {}
      },
      "source": [
        "class Model:\n",
        "  \"\"\"\n",
        "      Binds all the other classes together and contains methods for adding layers,\n",
        "      training the network and testing the network\n",
        "      Methods:\n",
        "        Add\n",
        "        Fit\n",
        "        Test\n",
        "  \"\"\" \n",
        "  def __init__(self,X_tr,y_tr,X_te,y_te,X_cv,y_cv):\n",
        "    self.X_tr, self.y_tr, self.m_tr = X_tr, y_tr, X_tr.shape[0] \n",
        "    self.X_te, self.y_te, self.m_te = X_te, y_te, X_te.shape[0]\n",
        "    self.X_cv, self.y_cv, self.m_cv = X_cv, y_cv, X_cv.shape[0]\n",
        "    self.layer_names = []\n",
        "    self.activations_cache = None\n",
        "    self.params = None\n",
        "\n",
        "  def add(self,layer_name,num_inputs,num_outputs,act_fn):\n",
        "    layer_name = Dense(num_inputs,num_outputs,act_fn)\n",
        "    Dense.initialize_params(layer_name)\n",
        "    self.layer_names.append(layer_name)\n",
        "  \n",
        "  def reset(self):\n",
        "    self.layer_names = []\n",
        "    return self.layer_names\n",
        "\n",
        "  def params_dict(self,print_params):\n",
        "    self.params = {}\n",
        "    num = 1\n",
        "    for layer in self.layer_names:\n",
        "      self.params[\"W\" + str(num)],self.params[\"b\" + str(num)] = Dense.get_params(layer)\n",
        "      num += 1\n",
        "    if print_params is True:\n",
        "      print(self.params)\n",
        "      return self.params\n",
        "    else:\n",
        "      return self.params\n",
        "\n",
        "  def forward_prop(self,X):\n",
        "    self.activations_cache = []\n",
        "    temp_A = X.T\n",
        "    for layer in self.layer_names:\n",
        "      _,temp_A = Dense.forw_prop(layer,temp_A)\n",
        "      self.activations_cache.append(temp_A)\n",
        "    return self.activations_cache\n",
        "\n",
        "  def backward_prop(self,y):\n",
        "    temp_dA = (-1/y.shape[1])*((y/self.activations_cache[-1]) - ((1-y)/(1-self.activations_cache[-1])))\n",
        "    l = len(self.layer_names)-2\n",
        "    for layer in reversed(self.layer_names):\n",
        "      _,layer.dW,layer.db,temp_dA = Dense.back_prop(layer,temp_dA,self.activations_cache[l])\n",
        "      l -= 1\n",
        "  \n",
        "  def fit(self,X,y,alpha,num_iter,optim,print_cost=True,callback=None):\n",
        "    params = self.params_dict(print_params=False)\n",
        "    V_dict = {}\n",
        "    S_dict = {}\n",
        "    for k in range(1,len(self.layer_names)):\n",
        "      V_dict[\"Vdw\" + str(k)] = np.zeros(params[\"W\" + str(k)].shape)\n",
        "      V_dict[\"Vdb\" + str(k)] = np.zeros(params[\"b\" + str(k)].shape)\n",
        "      S_dict[\"Sdw\" + str(k)] = np.zeros(params[\"W\" + str(k)].shape)\n",
        "      S_dict[\"Sdb\" + str(k)] = np.zeros(params[\"b\" + str(k)].shape)\n",
        "    optim_dict = {\"BGD\":[Optimizers.gradient_descent,None,None,0],\n",
        "                  \"Momentum\":[Optimizers.gd_mom,V_dict,None,0],\n",
        "                  \"RMSprop\":[Optimizers.rms_prop,None,S_dict,0],\n",
        "                  \"Adam\":[Optimizers.adam,V_dict,S_dict,0]}\n",
        "    for i in range(1,num_iter+1):\n",
        "      activations_cache = self.forward_prop(X)\n",
        "      cost = Helpers.cost_function(y,activations_cache[-1])\n",
        "      self.backward_prop(y)\n",
        "      optim_dict[optim][0](alpha,self.layer_names,optim_dict[optim][1],optim_dict[optim][2],optim_dict[optim][3]+i)\n",
        "      preds = Helpers.predict(activations_cache[-1])\n",
        "      accu_tr = Helpers.evaluate(y,preds)\n",
        "      if ((i%1==0) and print_cost==True):\n",
        "        print(\"Cost after iteration \" + str(i) + \" is: \" + str(np.round(cost,6)) + \"-----\" + \"Training accuracy: \" + str(np.round(accu_tr,3)))\n",
        "      if(i % 1 == 0):\n",
        "        if(callback is not None):\n",
        "          callback(i, params)\n",
        "\n",
        "  def test(self,X,y,print_values=True):\n",
        "    act_te = self.forward_prop(X)\n",
        "    predictions_te = Helpers.predict(act_te[-1])\n",
        "    accu_te = Helpers.evaluate(y,predictions_te)\n",
        "    prec_te,rec_te,f1_te = Helpers.prec_rec(predictions_te,y)\n",
        "    if print_values is True:\n",
        "      print(\"TEST RESULTS: \")\n",
        "      print(\"Testing accuracy = \" + str(accu_te))\n",
        "      print(\"Precision: \" + str(prec_te))\n",
        "      print(\"Recall: \" + str(rec_te))\n",
        "      print(\"F1 score: \" + str(f1_te))\n",
        "      print('\\n')\n",
        "      print('\\n')\n",
        "    return accu_te,prec_te,rec_te,f1_te"
      ],
      "execution_count": 8,
      "outputs": []
    },
    {
      "cell_type": "code",
      "metadata": {
        "id": "f5TZ10m7v-fN",
        "colab_type": "code",
        "colab": {}
      },
      "source": [
        "model = Model(X_tr,y_tr,X_te,y_te,X_cv,y_cv)"
      ],
      "execution_count": 9,
      "outputs": []
    },
    {
      "cell_type": "code",
      "metadata": {
        "id": "hT0OtJX1_CYE",
        "colab_type": "code",
        "colab": {}
      },
      "source": [
        "model.reset()\n",
        "model.add(\"dense1\",2,100,\"relu\")\n",
        "model.add(\"dense2\",100,60,\"relu\")\n",
        "model.add(\"dense3\",60,30,\"relu\")\n",
        "model.add(\"dense4\",30,15,\"tanh\")\n",
        "model.add(\"dense5\",15,1,\"sigmoid\")"
      ],
      "execution_count": 13,
      "outputs": []
    },
    {
      "cell_type": "code",
      "metadata": {
        "id": "FG1JGDB4_asI",
        "colab_type": "code",
        "colab": {
          "base_uri": "https://localhost:8080/",
          "height": 867
        },
        "outputId": "b14ed89e-1cda-4e47-9be8-098b5952524d"
      },
      "source": [
        "model.fit(X_tr,y_tr,0.05,50,\"Adam\")"
      ],
      "execution_count": 14,
      "outputs": [
        {
          "output_type": "stream",
          "text": [
            "Cost after iteration 1 is: 0.800922-----Training accuracy: 41.0\n",
            "Cost after iteration 2 is: 0.458194-----Training accuracy: 79.333\n",
            "Cost after iteration 3 is: 0.787995-----Training accuracy: 51.222\n",
            "Cost after iteration 4 is: 0.53043-----Training accuracy: 64.111\n",
            "Cost after iteration 5 is: 0.365121-----Training accuracy: 85.889\n",
            "Cost after iteration 6 is: 0.383054-----Training accuracy: 83.889\n",
            "Cost after iteration 7 is: 0.369141-----Training accuracy: 84.556\n",
            "Cost after iteration 8 is: 0.34124-----Training accuracy: 86.333\n",
            "Cost after iteration 9 is: 0.320495-----Training accuracy: 87.667\n",
            "Cost after iteration 10 is: 0.326845-----Training accuracy: 87.111\n",
            "Cost after iteration 11 is: 0.318054-----Training accuracy: 87.333\n",
            "Cost after iteration 12 is: 0.311648-----Training accuracy: 87.222\n",
            "Cost after iteration 13 is: 0.302587-----Training accuracy: 87.667\n",
            "Cost after iteration 14 is: 0.284438-----Training accuracy: 88.0\n",
            "Cost after iteration 15 is: 0.273974-----Training accuracy: 88.222\n",
            "Cost after iteration 16 is: 0.257795-----Training accuracy: 89.0\n",
            "Cost after iteration 17 is: 0.251605-----Training accuracy: 88.556\n",
            "Cost after iteration 18 is: 0.24558-----Training accuracy: 88.889\n",
            "Cost after iteration 19 is: 0.244906-----Training accuracy: 88.778\n",
            "Cost after iteration 20 is: 0.241373-----Training accuracy: 88.778\n",
            "Cost after iteration 21 is: 0.248761-----Training accuracy: 88.222\n",
            "Cost after iteration 22 is: 0.24498-----Training accuracy: 88.667\n",
            "Cost after iteration 23 is: 0.260447-----Training accuracy: 87.333\n",
            "Cost after iteration 24 is: 0.244959-----Training accuracy: 88.556\n",
            "Cost after iteration 25 is: 0.234688-----Training accuracy: 88.667\n",
            "Cost after iteration 26 is: 0.236186-----Training accuracy: 88.667\n",
            "Cost after iteration 27 is: 0.235819-----Training accuracy: 88.556\n",
            "Cost after iteration 28 is: 0.244213-----Training accuracy: 88.889\n",
            "Cost after iteration 29 is: 0.234054-----Training accuracy: 88.889\n",
            "Cost after iteration 30 is: 0.226679-----Training accuracy: 89.111\n",
            "Cost after iteration 31 is: 0.227545-----Training accuracy: 89.444\n",
            "Cost after iteration 32 is: 0.227154-----Training accuracy: 89.556\n",
            "Cost after iteration 33 is: 0.228799-----Training accuracy: 89.444\n",
            "Cost after iteration 34 is: 0.227003-----Training accuracy: 90.444\n",
            "Cost after iteration 35 is: 0.222989-----Training accuracy: 90.556\n",
            "Cost after iteration 36 is: 0.219665-----Training accuracy: 91.111\n",
            "Cost after iteration 37 is: 0.21478-----Training accuracy: 91.444\n",
            "Cost after iteration 38 is: 0.210796-----Training accuracy: 91.556\n",
            "Cost after iteration 39 is: 0.206657-----Training accuracy: 92.333\n",
            "Cost after iteration 40 is: 0.202418-----Training accuracy: 92.444\n",
            "Cost after iteration 41 is: 0.199519-----Training accuracy: 92.222\n",
            "Cost after iteration 42 is: 0.193993-----Training accuracy: 92.667\n",
            "Cost after iteration 43 is: 0.18866-----Training accuracy: 92.778\n",
            "Cost after iteration 44 is: 0.181003-----Training accuracy: 92.889\n",
            "Cost after iteration 45 is: 0.175635-----Training accuracy: 93.778\n",
            "Cost after iteration 46 is: 0.175138-----Training accuracy: 94.778\n",
            "Cost after iteration 47 is: 0.167021-----Training accuracy: 95.0\n",
            "Cost after iteration 48 is: 0.164212-----Training accuracy: 95.889\n",
            "Cost after iteration 49 is: 0.158015-----Training accuracy: 96.222\n",
            "Cost after iteration 50 is: 0.149032-----Training accuracy: 96.667\n"
          ],
          "name": "stdout"
        }
      ]
    },
    {
      "cell_type": "code",
      "metadata": {
        "id": "gLLHKYp2i3yT",
        "colab_type": "code",
        "colab": {
          "base_uri": "https://localhost:8080/",
          "height": 187
        },
        "outputId": "63dd3775-b90b-483a-8261-40983e0d723a"
      },
      "source": [
        "model.test(X_te,y_te)"
      ],
      "execution_count": 15,
      "outputs": [
        {
          "output_type": "stream",
          "text": [
            "TEST RESULTS: \n",
            "Testing accuracy = 100.0\n",
            "Precision: 1.0\n",
            "Recall: 1.0\n",
            "F1 score: 1.0\n",
            "\n",
            "\n",
            "\n",
            "\n"
          ],
          "name": "stdout"
        },
        {
          "output_type": "execute_result",
          "data": {
            "text/plain": [
              "(100.0, 1.0, 1.0, 1.0)"
            ]
          },
          "metadata": {
            "tags": []
          },
          "execution_count": 15
        }
      ]
    },
    {
      "cell_type": "code",
      "metadata": {
        "id": "PkqT5Tk3tNX7",
        "colab_type": "code",
        "colab": {}
      },
      "source": [
        "sns.set_style(\"whitegrid\")\n",
        "GRID_X_START = -1.5\n",
        "GRID_X_END = 2.5\n",
        "GRID_Y_START = -1.0\n",
        "GRID_Y_END = 2\n",
        "OUTPUT_DIR = \"/content/drive/My Drive/Colab Notebooks/nn_visuals/oop_adam\"\n",
        "grid = np.mgrid[GRID_X_START:GRID_X_END:100j,GRID_X_START:GRID_Y_END:100j]\n",
        "grid_2d = grid.reshape(2,-1)\n",
        "XX, YY = grid\n",
        "def make_plot(X, y, plot_name, file_name=None, XX=None, YY=None, preds=None, dark=False):\n",
        "    if (dark):\n",
        "        plt.style.use('dark_background')\n",
        "    else:\n",
        "        sns.set_style(\"whitegrid\")\n",
        "    plt.figure(figsize=(16,12))\n",
        "    axes = plt.gca()\n",
        "    axes.set(xlabel=\"$X_1$\", ylabel=\"$X_2$\")\n",
        "    plt.title(plot_name, fontsize=30)\n",
        "    plt.subplots_adjust(left=0.20)\n",
        "    plt.subplots_adjust(right=0.80)\n",
        "    if(XX is not None and YY is not None and preds is not None):\n",
        "        plt.contourf(XX, YY, preds.reshape(XX.shape), 25, alpha = 1, cmap=cm.Spectral)\n",
        "        plt.contour(XX, YY, preds.reshape(XX.shape), levels=[.5], cmap=\"Greys\", vmin=0, vmax=.6)\n",
        "    plt.scatter(X[:, 0], X[:, 1], c=y.ravel(), s=40, cmap=plt.cm.Spectral, edgecolors='black')\n",
        "    if(file_name):\n",
        "        plt.savefig(file_name)\n",
        "        plt.close()\n",
        "import os\n",
        "init_params = model.params_dict(print_params=False)\n",
        "def callback_numpy_plot(index, init_params):\n",
        "    plot_title = \"Iteration {:05}\".format(index)\n",
        "    file_name = \"numpy_model_{:05}.png\".format(index//1)\n",
        "    file_path = os.path.join(OUTPUT_DIR, file_name)\n",
        "    act = model.forward_prop(np.transpose(grid_2d))\n",
        "    prediction_probs = act[-1]\n",
        "    prediction_probs = prediction_probs.reshape(prediction_probs.shape[1], 1)\n",
        "    make_plot(X_te, y_te, plot_title, file_name=file_path, XX=XX, YY=YY, preds=prediction_probs, dark=True)"
      ],
      "execution_count": 18,
      "outputs": []
    },
    {
      "cell_type": "code",
      "metadata": {
        "id": "iBa5oLGS0FPk",
        "colab_type": "code",
        "colab": {}
      },
      "source": [
        "model.reset()\n",
        "model.add(\"dense1\",2,100,\"relu\")\n",
        "model.add(\"dense2\",100,60,\"relu\")\n",
        "model.add(\"dense3\",60,30,\"relu\")\n",
        "model.add(\"dense4\",30,15,\"tanh\")\n",
        "model.add(\"dense5\",15,1,\"sigmoid\")\n",
        "model.fit(X_tr,y_tr,0.05,100,\"Adam\",print_cost=False,callback=callback_numpy_plot)"
      ],
      "execution_count": 22,
      "outputs": []
    },
    {
      "cell_type": "code",
      "metadata": {
        "id": "VSr56u3m2VfU",
        "colab_type": "code",
        "colab": {
          "base_uri": "https://localhost:8080/",
          "height": 747
        },
        "outputId": "ddfa9fd3-e176-4afa-9d59-8ac180502e22"
      },
      "source": [
        "act = model.forward_prop(np.transpose(grid_2d))\n",
        "prediction_probs_np = act[-1]\n",
        "prediction_probs_np = prediction_probs_np.reshape(prediction_probs_np.shape[1], 1)\n",
        "make_plot(X_te, y_te, \"Final Iteration\", file_name=None, XX=XX, YY=YY, preds=prediction_probs_np, dark=True)"
      ],
      "execution_count": 21,
      "outputs": [
        {
          "output_type": "display_data",
          "data": {
            "image/png": "[encoded data removed]",
            "text/plain": [
              "<Figure size 1152x864 with 1 Axes>"
            ]
          },
          "metadata": {
            "tags": []
          }
        }
      ]
    },
    {
      "cell_type": "code",
      "metadata": {
        "id": "pG8sPwML4PDy",
        "colab_type": "code",
        "colab": {}
      },
      "source": [
        ""
      ],
      "execution_count": null,
      "outputs": []
    }
  ]
}